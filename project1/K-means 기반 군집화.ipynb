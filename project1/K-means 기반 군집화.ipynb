{
 "cells": [
  {
   "cell_type": "code",
   "execution_count": 1,
   "metadata": {},
   "outputs": [],
   "source": [
    "from sklearn.feature_extraction.text import TfidfVectorizer\n",
    "from sklearn.cluster import KMeans\n",
    "import time"
   ]
  },
  {
   "cell_type": "code",
   "execution_count": 2,
   "metadata": {},
   "outputs": [],
   "source": [
    "def read_large_file(file_path):\n",
    "    \"\"\"파일에서 텍스트를 읽어 리스트로 반환.\"\"\"\n",
    "    with open(file_path, 'r', encoding='utf-8') as file:\n",
    "        return file.readlines()\n",
    "\n",
    "def cluster_texts(file_path, num_clusters=10):\n",
    "    \"\"\"텍스트를 클러스터링.\"\"\"\n",
    "    start_time = time.time()\n",
    "\n",
    "    # 파일에서 텍스트 읽기\n",
    "    texts = read_large_file(file_path)\n",
    "\n",
    "    # TF-IDF 벡터화\n",
    "    vectorizer = TfidfVectorizer(stop_words='english')\n",
    "    tfidf_matrix = vectorizer.fit_transform(texts)\n",
    "\n",
    "    # KMeans 클러스터링\n",
    "    kmeans = KMeans(n_clusters=num_clusters, random_state=42, n_init=10, max_iter=300)\n",
    "    kmeans.fit(tfidf_matrix)\n",
    "\n",
    "    # 클러스터 결과 저장\n",
    "    clusters = kmeans.labels_\n",
    "    clustered_texts = {i: [] for i in range(num_clusters)}\n",
    "    for idx, label in enumerate(clusters):\n",
    "        clustered_texts[label].append(texts[idx])\n",
    "\n",
    "    elapsed_time = time.time() - start_time\n",
    "    print(f\"Text Clustering Completed in {elapsed_time:.2f} seconds\")\n",
    "    return clustered_texts"
   ]
  },
  {
   "cell_type": "code",
   "execution_count": 4,
   "metadata": {},
   "outputs": [
    {
     "name": "stdout",
     "output_type": "stream",
     "text": [
      "Text Clustering Completed in 1.22 seconds\n",
      "클러스터링 결과가 'clustered_texts.txt'에 저장되었습니다.\n"
     ]
    }
   ],
   "source": [
    "if __name__ == \"__main__\":\n",
    "    input_file = 'AI 도입효과2.txt'\n",
    "    num_clusters = 10  # 클러스터 개수 설정\n",
    "\n",
    "    clustered_texts = cluster_texts(input_file, num_clusters)\n",
    "\n",
    "    # 클러스터별 결과 저장\n",
    "    with open('clustered_texts.txt', 'w', encoding='utf-8') as file:\n",
    "        for cluster, texts in clustered_texts.items():\n",
    "            file.write(f\"Cluster {cluster}:\\n\")\n",
    "            for text in texts:\n",
    "                file.write(f\"\\t{text.strip()}\\n\")\n",
    "\n",
    "    print(\"클러스터링 결과가 'clustered_texts.txt'에 저장되었습니다.\")"
   ]
  },
  {
   "cell_type": "code",
   "execution_count": null,
   "metadata": {},
   "outputs": [],
   "source": []
  }
 ],
 "metadata": {
  "kernelspec": {
   "display_name": "Python 3",
   "language": "python",
   "name": "python3"
  },
  "language_info": {
   "codemirror_mode": {
    "name": "ipython",
    "version": 3
   },
   "file_extension": ".py",
   "mimetype": "text/x-python",
   "name": "python",
   "nbconvert_exporter": "python",
   "pygments_lexer": "ipython3",
   "version": "3.13.0"
  }
 },
 "nbformat": 4,
 "nbformat_minor": 2
}
