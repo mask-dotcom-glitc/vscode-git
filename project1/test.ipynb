{
 "cells": [
  {
   "cell_type": "code",
   "execution_count": 1,
   "metadata": {},
   "outputs": [],
   "source": [
    "from sklearn.feature_extraction.text import TfidfVectorizer\n",
    "from sklearn.metrics.pairwise import cosine_similarity\n",
    "import numpy as np"
   ]
  },
  {
   "cell_type": "code",
   "execution_count": 2,
   "metadata": {},
   "outputs": [],
   "source": [
    "def read_large_text_file(file_path):\n",
    "    \"\"\"\n",
    "    대용량 텍스트 파일을 줄 단위로 읽어서 문장의 리스트로 반환.\n",
    "    \"\"\"\n",
    "    with open(file_path, 'r', encoding='utf-8') as file:\n",
    "        lines = file.readlines()\n",
    "    return [line.strip() for line in lines if line.strip()]  # 빈 줄 제거"
   ]
  },
  {
   "cell_type": "code",
   "execution_count": 3,
   "metadata": {},
   "outputs": [],
   "source": [
    "def find_most_similar_sentence(input_text, sentences):\n",
    "    \"\"\"\n",
    "    입력 텍스트와 가장 유사한 문장을 코사인 유사도로 계산.\n",
    "    \"\"\"\n",
    "    # TF-IDF 벡터화\n",
    "    vectorizer = TfidfVectorizer()\n",
    "    tfidf_matrix = vectorizer.fit_transform(sentences + [input_text])\n",
    "\n",
    "    # 코사인 유사도 계산 (입력값은 마지막에 위치)\n",
    "    cosine_similarities = cosine_similarity(tfidf_matrix[-1], tfidf_matrix[:-1]).flatten()\n",
    "\n",
    "    # 가장 유사한 문장 인덱스 및 유사도 값 반환\n",
    "    most_similar_index = np.argmax(cosine_similarities)\n",
    "    return sentences[most_similar_index], cosine_similarities[most_similar_index]"
   ]
  },
  {
   "cell_type": "code",
   "execution_count": 6,
   "metadata": {},
   "outputs": [
    {
     "name": "stdout",
     "output_type": "stream",
     "text": [
      "파일 읽는 중...\n",
      "유사도 계산 중...\n",
      "\n",
      "입력값: 대체휴무를 분할\n",
      "입력값과 가장 유사한 문장:\n",
      "Q) 부여된 대체휴무를 분할하여 사용가능한지?\n",
      "유사도 점수: 0.3690\n"
     ]
    }
   ],
   "source": [
    "# 실행 코드\n",
    "if __name__ == \"__main__\":\n",
    "    # 대용량 텍스트 파일 경로\n",
    "    file_path = \"복무Q&A.txt\"  # 파일 경로를 설정하세요\n",
    "    input_text = input(\"입력값을 입력하세요: \").strip()\n",
    "\n",
    "    print(\"파일 읽는 중...\")\n",
    "    sentences = read_large_text_file(file_path)\n",
    "\n",
    "    print(\"유사도 계산 중...\")\n",
    "    most_similar_sentence, similarity_score = find_most_similar_sentence(input_text, sentences)\n",
    "\n",
    "    print(f\"\\n입력값: {input_text}\")\n",
    "    print(f\"입력값과 가장 유사한 문장:\\n{most_similar_sentence}\")\n",
    "    print(f\"유사도 점수: {similarity_score:.4f}\")"
   ]
  },
  {
   "cell_type": "code",
   "execution_count": null,
   "metadata": {},
   "outputs": [],
   "source": []
  }
 ],
 "metadata": {
  "kernelspec": {
   "display_name": "Python 3",
   "language": "python",
   "name": "python3"
  },
  "language_info": {
   "codemirror_mode": {
    "name": "ipython",
    "version": 3
   },
   "file_extension": ".py",
   "mimetype": "text/x-python",
   "name": "python",
   "nbconvert_exporter": "python",
   "pygments_lexer": "ipython3",
   "version": "3.13.0"
  }
 },
 "nbformat": 4,
 "nbformat_minor": 2
}
