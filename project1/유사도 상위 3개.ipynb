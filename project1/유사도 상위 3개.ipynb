{
 "cells": [
  {
   "cell_type": "code",
   "execution_count": 1,
   "metadata": {},
   "outputs": [],
   "source": [
    "import numpy as np\n",
    "from sklearn.feature_extraction.text import TfidfVectorizer\n",
    "from sklearn.metrics.pairwise import cosine_similarity"
   ]
  },
  {
   "cell_type": "code",
   "execution_count": 2,
   "metadata": {},
   "outputs": [],
   "source": [
    "def load_text_file(file_path):\n",
    "    \"\"\"\n",
    "    텍스트 파일을 읽어 문장 리스트로 반환\n",
    "    \"\"\"\n",
    "    with open(file_path, 'r', encoding='utf-8') as file:\n",
    "        sentences = file.readlines()\n",
    "    return [sentence.strip() for sentence in sentences if sentence.strip()]"
   ]
  },
  {
   "cell_type": "code",
   "execution_count": 3,
   "metadata": {},
   "outputs": [],
   "source": [
    "def recommend_similar_sentences(input_text, sentences, top_n=3):\n",
    "    \"\"\"\n",
    "    입력값과 코사인 유사도를 비교하여 상위 n개의 문장을 추천\n",
    "    \"\"\"\n",
    "    # TfidfVectorizer로 문장 벡터화\n",
    "    vectorizer = TfidfVectorizer()\n",
    "    tfidf_matrix = vectorizer.fit_transform(sentences + [input_text])\n",
    "    \n",
    "    # 코사인 유사도 계산\n",
    "    cosine_similarities = cosine_similarity(tfidf_matrix[-1], tfidf_matrix[:-1]).flatten()\n",
    "    \n",
    "    # 유사도가 높은 상위 n개의 인덱스\n",
    "    similar_indices = cosine_similarities.argsort()[-top_n:][::-1]\n",
    "    \n",
    "    # 추천 문장과 유사도 반환\n",
    "    recommendations = [(sentences[i], cosine_similarities[i]) for i in similar_indices]\n",
    "    return recommendations"
   ]
  },
  {
   "cell_type": "code",
   "execution_count": 6,
   "metadata": {},
   "outputs": [
    {
     "name": "stdout",
     "output_type": "stream",
     "text": [
      "\n",
      "유사도가 높은 문장 추천:\n",
      "1. Q) 부여된 대체휴무를 분할하여 사용가능한지? (유사도: 0.3690)\n",
      "2. ① 4시간 초과근무에 따라 6시간 대체휴무 발생시 6시간으로 부여 및 사용하고 3시간 + 3시간으로 분할 부여 및 사용 불가 (유사도: 0.1698)\n",
      "3. ② 8시간 초과근무에 따라 12시간 대체휴무 발생시 8시간 + 4시간으로 부여 및 사용하고 6시간 + 6시간으로 분할 부여 및 사용 불가 (유사도: 0.1561)\n"
     ]
    }
   ],
   "source": [
    "if __name__ == \"__main__\":\n",
    "    # 대용량 텍스트 파일 경로\n",
    "    file_path = \"복무Q&A.txt\"  \n",
    "    \n",
    "    # 텍스트 파일에서 문장 로드\n",
    "    sentences = load_text_file(file_path)\n",
    "    \n",
    "    # 사용자 입력\n",
    "    user_input = input(\"문장을 입력하세요: \")\n",
    "    \n",
    "    # 유사한 문장 추천\n",
    "    recommendations = recommend_similar_sentences(user_input, sentences)\n",
    "    \n",
    "    print(\"\\n유사도가 높은 문장 추천:\")\n",
    "    for idx, (sentence, similarity) in enumerate(recommendations, 1):\n",
    "        print(f\"{idx}. {sentence} (유사도: {similarity:.4f})\")"
   ]
  },
  {
   "cell_type": "code",
   "execution_count": null,
   "metadata": {},
   "outputs": [],
   "source": []
  }
 ],
 "metadata": {
  "kernelspec": {
   "display_name": "Python 3",
   "language": "python",
   "name": "python3"
  },
  "language_info": {
   "codemirror_mode": {
    "name": "ipython",
    "version": 3
   },
   "file_extension": ".py",
   "mimetype": "text/x-python",
   "name": "python",
   "nbconvert_exporter": "python",
   "pygments_lexer": "ipython3",
   "version": "3.13.0"
  }
 },
 "nbformat": 4,
 "nbformat_minor": 2
}
