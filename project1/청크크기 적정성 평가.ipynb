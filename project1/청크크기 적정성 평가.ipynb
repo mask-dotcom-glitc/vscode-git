{
 "cells": [
  {
   "cell_type": "code",
   "execution_count": 2,
   "metadata": {},
   "outputs": [],
   "source": [
    "import time\n",
    "from sklearn.feature_extraction.text import TfidfVectorizer\n",
    "from sklearn.metrics.pairwise import cosine_similarity\n",
    "from multiprocessing import Pool"
   ]
  },
  {
   "cell_type": "code",
   "execution_count": 3,
   "metadata": {},
   "outputs": [],
   "source": [
    "def read_large_file(file_path):\n",
    "    \"\"\"파일에서 텍스트를 읽어 리스트로 반환.\"\"\"\n",
    "    with open(file_path, 'r', encoding='utf-8') as file:\n",
    "        return file.readlines()\n"
   ]
  },
  {
   "cell_type": "code",
   "execution_count": 4,
   "metadata": {},
   "outputs": [],
   "source": [
    "def calculate_similarity(chunk):\n",
    "    \"\"\"주어진 텍스트 조각에 대해 유사도를 계산.\"\"\"\n",
    "    indices, texts = chunk\n",
    "    vectorizer = TfidfVectorizer().fit_transform(texts)\n",
    "    similarity_matrix = cosine_similarity(vectorizer)\n",
    "    results = []\n",
    "    for i in range(len(texts)):\n",
    "        for j in range(i + 1, len(texts)):\n",
    "            if similarity_matrix[i, j] > 0.8:  # 유사도가 0.8 이상인 경우\n",
    "                results.append((indices[i], indices[j], similarity_matrix[i, j]))\n",
    "    return results"
   ]
  },
  {
   "cell_type": "code",
   "execution_count": 5,
   "metadata": {},
   "outputs": [],
   "source": [
    "def process_in_chunks(file_path, chunk_size):\n",
    "    \"\"\"파일을 청크 단위로 분할.\"\"\"\n",
    "    texts = read_large_file(file_path)\n",
    "    num_texts = len(texts)\n",
    "    chunks = [\n",
    "        (list(range(i, min(i + chunk_size, num_texts))),\n",
    "         texts[i:min(i + chunk_size, num_texts)])\n",
    "        for i in range(0, num_texts, chunk_size)\n",
    "    ]\n",
    "    return chunks"
   ]
  },
  {
   "cell_type": "code",
   "execution_count": 6,
   "metadata": {},
   "outputs": [],
   "source": [
    "def test_chunk_sizes(file_path, chunk_sizes):\n",
    "    \"\"\"청크 크기별 실행 시간을 측정.\"\"\"\n",
    "    results = []\n",
    "    for chunk_size in chunk_sizes:\n",
    "        print(f\"Testing chunk size: {chunk_size}\")\n",
    "        start_time = time.time()\n",
    "\n",
    "        # 파일을 청크 단위로 나눔\n",
    "        chunks = process_in_chunks(file_path, chunk_size)\n",
    "\n",
    "        # 멀티프로세싱을 사용해 청크별로 유사도 계산\n",
    "        with Pool() as pool:\n",
    "            pool.map(calculate_similarity, chunks)\n",
    "\n",
    "        elapsed_time = time.time() - start_time\n",
    "        print(f\"Chunk size {chunk_size} completed in {elapsed_time:.2f} seconds\")\n",
    "        results.append((chunk_size, elapsed_time))\n",
    "    return results"
   ]
  },
  {
   "cell_type": "code",
   "execution_count": 7,
   "metadata": {},
   "outputs": [],
   "source": [
    "def save_test_results(results, output_file):\n",
    "    \"\"\"청크 크기 테스트 결과를 파일에 저장.\"\"\"\n",
    "    with open(output_file, 'w', encoding='utf-8') as file:\n",
    "        for chunk_size, elapsed_time in results:\n",
    "            file.write(f\"Chunk Size: {chunk_size}, Time: {elapsed_time:.2f} seconds\\n\")"
   ]
  },
  {
   "cell_type": "code",
   "execution_count": null,
   "metadata": {},
   "outputs": [
    {
     "name": "stdout",
     "output_type": "stream",
     "text": [
      "Testing chunk size: 100\n"
     ]
    }
   ],
   "source": [
    "if __name__ == \"__main__\":\n",
    "    input_file = '복무Q&A.txt'  # 입력 텍스트 파일 경로\n",
    "    output_file = 'chunk_size_test_results.txt'  # 테스트 결과 저장 파일\n",
    "    chunk_sizes = [100, 500, 1000, 2000, 5000]  # 테스트할 청크 크기 목록\n",
    "\n",
    "    # 청크 크기별 테스트 실행\n",
    "    test_results = test_chunk_sizes(input_file, chunk_sizes)\n",
    "\n",
    "    # 결과 저장\n",
    "    save_test_results(test_results, output_file)\n",
    "\n",
    "    print(f\"Test results saved in {output_file}\")"
   ]
  }
 ],
 "metadata": {
  "kernelspec": {
   "display_name": "Python 3",
   "language": "python",
   "name": "python3"
  },
  "language_info": {
   "codemirror_mode": {
    "name": "ipython",
    "version": 3
   },
   "file_extension": ".py",
   "mimetype": "text/x-python",
   "name": "python",
   "nbconvert_exporter": "python",
   "pygments_lexer": "ipython3",
   "version": "3.13.0"
  }
 },
 "nbformat": 4,
 "nbformat_minor": 2
}
