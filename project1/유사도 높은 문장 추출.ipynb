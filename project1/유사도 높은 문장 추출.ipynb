{
 "cells": [
  {
   "cell_type": "code",
   "execution_count": 1,
   "metadata": {},
   "outputs": [],
   "source": [
    "import os\n",
    "from sklearn.feature_extraction.text import TfidfVectorizer\n",
    "from sklearn.metrics.pairwise import cosine_similarity\n",
    "import pandas as pd\n",
    "from multiprocessing import Pool"
   ]
  },
  {
   "cell_type": "code",
   "execution_count": 2,
   "metadata": {},
   "outputs": [],
   "source": [
    "def read_large_file(file_path):\n",
    "    \"\"\"파일에서 텍스트를 읽어 리스트로 반환.\"\"\"\n",
    "    with open(file_path, 'r', encoding='utf-8') as file:\n",
    "        return file.readlines()"
   ]
  },
  {
   "cell_type": "code",
   "execution_count": 3,
   "metadata": {},
   "outputs": [],
   "source": [
    "def calculate_similarity(chunk):\n",
    "    \"\"\"주어진 텍스트 조각에 대해 유사도를 계산.\"\"\"\n",
    "    indices, texts = chunk\n",
    "    vectorizer = TfidfVectorizer().fit_transform(texts)\n",
    "    similarity_matrix = cosine_similarity(vectorizer)\n",
    "    results = []\n",
    "    for i in range(len(texts)):\n",
    "        for j in range(i + 1, len(texts)):\n",
    "            if similarity_matrix[i, j] > 0.8:  # 유사도가 0.8 이상인 경우\n",
    "                results.append((indices[i], indices[j], similarity_matrix[i, j]))\n",
    "    return results"
   ]
  },
  {
   "cell_type": "code",
   "execution_count": 4,
   "metadata": {},
   "outputs": [],
   "source": [
    "def process_in_chunks(file_path, chunk_size=1000):\n",
    "    \"\"\"파일을 청크 단위로 처리.\"\"\"\n",
    "    texts = read_large_file(file_path)\n",
    "    num_texts = len(texts)\n",
    "    chunks = [\n",
    "        (list(range(i, min(i + chunk_size, num_texts))),\n",
    "         texts[i:min(i + chunk_size, num_texts)])\n",
    "        for i in range(0, num_texts, chunk_size)\n",
    "    ]\n",
    "    return chunks"
   ]
  },
  {
   "cell_type": "code",
   "execution_count": 5,
   "metadata": {},
   "outputs": [],
   "source": [
    "def save_results(results, output_file):\n",
    "    \"\"\"결과를 파일에 저장.\"\"\"\n",
    "    with open(output_file, 'w', encoding='utf-8') as file:\n",
    "        for idx1, idx2, score in results:\n",
    "            file.write(f\"{idx1}\\t{idx2}\\t{score:.2f}\\n\")"
   ]
  },
  {
   "cell_type": "code",
   "execution_count": null,
   "metadata": {},
   "outputs": [],
   "source": [
    "if __name__ == \"__main__\":\n",
    "    input_file = '복무Q&A.txt'  # 입력 텍스트 파일\n",
    "    output_file = 'similar_sentences.txt'  # 출력 파일\n",
    "    chunk_size = 1000  # 청크 크기 설정\n",
    "\n",
    "    chunks = process_in_chunks(input_file, chunk_size)\n",
    "\n",
    "    # 멀티프로세싱 사용\n",
    "    with Pool() as pool:\n",
    "        all_results = pool.map(calculate_similarity, chunks)\n",
    "\n",
    "    # 결과 병합\n",
    "    flattened_results = [item for sublist in all_results for item in sublist]\n",
    "\n",
    "    # 파일에 저장\n",
    "    save_results(flattened_results, output_file)\n",
    "\n",
    "    print(f\"유사도 계산 완료. 결과가 {output_file}에 저장되었습니다.\")"
   ]
  },
  {
   "cell_type": "code",
   "execution_count": null,
   "metadata": {},
   "outputs": [],
   "source": []
  }
 ],
 "metadata": {
  "kernelspec": {
   "display_name": "Python 3",
   "language": "python",
   "name": "python3"
  },
  "language_info": {
   "codemirror_mode": {
    "name": "ipython",
    "version": 3
   },
   "file_extension": ".py",
   "mimetype": "text/x-python",
   "name": "python",
   "nbconvert_exporter": "python",
   "pygments_lexer": "ipython3",
   "version": "3.13.0"
  }
 },
 "nbformat": 4,
 "nbformat_minor": 2
}
