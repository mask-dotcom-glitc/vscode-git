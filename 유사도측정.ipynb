{
 "cells": [
  {
   "cell_type": "code",
   "execution_count": 9,
   "metadata": {},
   "outputs": [],
   "source": [
    "from sklearn.feature_extraction.text import TfidfVectorizer\n",
    "from sklearn.metrics.pairwise import cosine_similarity\n"
   ]
  },
  {
   "cell_type": "code",
   "execution_count": 10,
   "metadata": {},
   "outputs": [],
   "source": [
    "def load_text_file(file_path):\n",
    "    \"\"\"텍스트 파일을 읽어 문장 리스트로 반환\"\"\"\n",
    "    with open(file_path, 'r', encoding='utf-8') as file:\n",
    "        sentences = file.readlines()\n",
    "    return [sentence.strip() for sentence in sentences if sentence.strip()]"
   ]
  },
  {
   "cell_type": "code",
   "execution_count": 11,
   "metadata": {},
   "outputs": [],
   "source": [
    "def find_most_similar_sentence(input_text, sentences):\n",
    "    \"\"\"사용자 입력과 문장들 중 코사인 유사도가 가장 높은 문장을 반환\"\"\"\n",
    "    # 입력 문장과 파일 문장을 합쳐서 TF-IDF 벡터화\n",
    "    vectorizer = TfidfVectorizer()\n",
    "    all_sentences = [input_text] + sentences\n",
    "    tfidf_matrix = vectorizer.fit_transform(all_sentences)\n",
    "    \n",
    "    # 코사인 유사도 계산 (첫 번째 문장 vs 나머지 문장)\n",
    "    cosine_sim = cosine_similarity(tfidf_matrix[0:1], tfidf_matrix[1:])\n",
    "    \n",
    "    # 가장 높은 유사도를 가진 문장 찾기\n",
    "    max_index = cosine_sim[0].argmax()\n",
    "    max_similarity = cosine_sim[0][max_index]\n",
    "    most_similar_sentence = sentences[max_index]\n",
    "    \n",
    "    return most_similar_sentence, max_similarity"
   ]
  },
  {
   "cell_type": "code",
   "execution_count": 12,
   "metadata": {},
   "outputs": [],
   "source": [
    "# 파일 경로 및 사용자 입력\n",
    "file_path = 'AI 도입효과2.txt'  # 텍스트 파일 경로\n",
    "sentences = load_text_file(file_path)"
   ]
  },
  {
   "cell_type": "code",
   "execution_count": 14,
   "metadata": {},
   "outputs": [
    {
     "name": "stdout",
     "output_type": "stream",
     "text": [
      "\n",
      "Most similar sentence: \"﻿2. 타기관 AI 도입 성과 분석\"\n",
      "Cosine Similarity: 0.0000\n"
     ]
    }
   ],
   "source": [
    "# 사용자 INPUT 받기\n",
    "input_text = input(\"처리 시간 60% 단축\")\n",
    "\n",
    "# 가장 유사한 문장 찾기\n",
    "\n",
    "most_similar_sentence, similarity = find_most_similar_sentence(input_text, sentences)\n",
    "\n",
    "# 결과 출력\n",
    "print(f\"\\nMost similar sentence: \\\"{most_similar_sentence}\\\"\")\n",
    "print(f\"Cosine Similarity: {similarity:.4f}\")\n"
   ]
  }
 ],
 "metadata": {
  "kernelspec": {
   "display_name": "Python 3",
   "language": "python",
   "name": "python3"
  },
  "language_info": {
   "codemirror_mode": {
    "name": "ipython",
    "version": 3
   },
   "file_extension": ".py",
   "mimetype": "text/x-python",
   "name": "python",
   "nbconvert_exporter": "python",
   "pygments_lexer": "ipython3",
   "version": "3.9.12"
  }
 },
 "nbformat": 4,
 "nbformat_minor": 2
}
