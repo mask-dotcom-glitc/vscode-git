{
 "cells": [
  {
   "cell_type": "code",
   "execution_count": 1,
   "metadata": {},
   "outputs": [],
   "source": [
    "import numpy as np\n",
    "import pandas as pd\n",
    "from sklearn.feature_extraction.text import TfidfVectorizer\n",
    "from sklearn.metrics.pairwise import cosine_similarity"
   ]
  },
  {
   "cell_type": "code",
   "execution_count": 2,
   "metadata": {},
   "outputs": [],
   "source": [
    "def calculate_and_save_cosine_similarity(input_file, output_file):\n",
    "    # 텍스트 파일 읽기\n",
    "    with open(input_file, 'r', encoding='utf-8') as file:\n",
    "        sentences = file.readlines()\n",
    "    \n",
    "    # 문장 간 공백 제거\n",
    "    sentences = [sentence.strip() for sentence in sentences if sentence.strip()]\n",
    "    \n",
    "    # TF-IDF 벡터화\n",
    "    vectorizer = TfidfVectorizer()\n",
    "    tfidf_matrix = vectorizer.fit_transform(sentences)\n",
    "    \n",
    "    # 코사인 유사도 계산\n",
    "    cosine_sim_matrix = cosine_similarity(tfidf_matrix, tfidf_matrix)\n",
    "    \n",
    "    # 유사도 행렬을 데이터프레임으로 변환\n",
    "    df_cosine_similarity = pd.DataFrame(cosine_sim_matrix, index=sentences, columns=sentences)\n",
    "    \n",
    "    # 결과를 CSV 파일로 저장\n",
    "    df_cosine_similarity.to_csv(output_file, encoding='utf-8-sig')\n",
    "    print(f\"Cosine similarity matrix saved to {output_file}\")"
   ]
  },
  {
   "cell_type": "code",
   "execution_count": 3,
   "metadata": {},
   "outputs": [],
   "source": [
    "# 입력 파일 경로와 출력 파일 경로 지정\n",
    "input_file = 'AI 도입효과2.txt'   # 입력 파일 경로\n",
    "output_file = 'output.csv' # 출력 파일 경로"
   ]
  },
  {
   "cell_type": "code",
   "execution_count": 4,
   "metadata": {},
   "outputs": [
    {
     "name": "stdout",
     "output_type": "stream",
     "text": [
      "Cosine similarity matrix saved to output.csv\n"
     ]
    }
   ],
   "source": [
    "# 함수 실행\n",
    "calculate_and_save_cosine_similarity(input_file, output_file)"
   ]
  },
  {
   "cell_type": "code",
   "execution_count": null,
   "metadata": {},
   "outputs": [],
   "source": []
  }
 ],
 "metadata": {
  "kernelspec": {
   "display_name": "Python 3",
   "language": "python",
   "name": "python3"
  },
  "language_info": {
   "codemirror_mode": {
    "name": "ipython",
    "version": 3
   },
   "file_extension": ".py",
   "mimetype": "text/x-python",
   "name": "python",
   "nbconvert_exporter": "python",
   "pygments_lexer": "ipython3",
   "version": "3.9.12"
  }
 },
 "nbformat": 4,
 "nbformat_minor": 2
}
